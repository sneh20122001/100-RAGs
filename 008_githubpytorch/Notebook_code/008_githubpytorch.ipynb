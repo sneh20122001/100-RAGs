{
 "cells": [
  {
   "cell_type": "code",
   "execution_count": 1,
   "id": "dadd409f",
   "metadata": {},
   "outputs": [],
   "source": [
    "import requests\n",
    "from bs4 import BeautifulSoup\n",
    "from urllib.parse import urljoin, urlparse \n",
    "from langchain_core.documents import Document "
   ]
  },
  {
   "cell_type": "code",
   "execution_count": 2,
   "id": "e8cef01e",
   "metadata": {},
   "outputs": [],
   "source": [
    "visited = set()\n",
    "\n",
    "def crawl(url,base_url, depth=0,max_depth=5):\n",
    "    if depth>max_depth or url in visited:\n",
    "        return []\n",
    "    \n",
    "    print(f\"Crawling: {url}\")\n",
    "    visited.add(url)\n",
    "\n",
    "    headers = {\n",
    "        \"User-Agent\": (\n",
    "            \"Mozilla/5.0 (Windows NT 10.0; Win64; x64) AppleWebKit/537.36 \"\n",
    "            \"(KHTML, like Gecko) Chrome/114.0.0.0 Safari/537.36\"\n",
    "        )\n",
    "    }\n",
    "\n",
    "    try:\n",
    "        response = requests.get(url,headers=headers,timeout=5)\n",
    "        if response.status_code !=200:\n",
    "            print(f\"Failed ({response.status_code}): {url}\")\n",
    "            return []\n",
    "        \n",
    "        soup = BeautifulSoup(response.text, 'html.parser')\n",
    "        text = soup.get_text(separator=\"\\n\",strip=True)\n",
    "        doc = Document(page_content=text,metadata={'source':url})\n",
    "\n",
    "        # Find internal Links \n",
    "        links = [\n",
    "            urljoin(url, a['href'])\n",
    "            for a in soup.find_all(\"a\",href=True)\n",
    "            if urlparse(urljoin(url, a['href'])).netloc == urlparse(base_url).netloc\n",
    "        ]\n",
    "\n",
    "        docs = [doc] \n",
    "        for link in links:\n",
    "            docs.extend(crawl(link,base_url,depth+1,max_depth))\n",
    "        return docs\n",
    "    \n",
    "    except Exception as e:\n",
    "        print(f\"Error: {e}\")\n",
    "        return [] "
   ]
  },
  {
   "cell_type": "code",
   "execution_count": 18,
   "id": "3e916352",
   "metadata": {},
   "outputs": [],
   "source": [
    "# Start Crawling \n",
    "docs1 = crawl(\"https://github.com/pytorch\",\n",
    "              \"https://github.com/pytorch\",max_depth=2)"
   ]
  },
  {
   "cell_type": "code",
   "execution_count": 19,
   "id": "57427cf9",
   "metadata": {},
   "outputs": [
    {
     "name": "stdout",
     "output_type": "stream",
     "text": [
      "Crawling: https://docs.pytorch.org/docs/stable/index.html\n",
      "Crawling: https://docs.pytorch.org/docs/stable/community/build_ci_governance.html\n",
      "Crawling: https://docs.pytorch.org/docs/stable/community/contribution_guide.html\n",
      "Crawling: https://docs.pytorch.org/docs/stable/community/design.html\n",
      "Crawling: https://docs.pytorch.org/docs/stable/community/governance.html\n",
      "Crawling: https://docs.pytorch.org/docs/stable/community/persons_of_interest.html\n",
      "Crawling: https://docs.pytorch.org/docs/stable/notes/amp_examples.html\n",
      "Crawling: https://docs.pytorch.org/docs/stable/notes/autograd.html\n",
      "Crawling: https://docs.pytorch.org/docs/stable/notes/broadcasting.html\n",
      "Crawling: https://docs.pytorch.org/docs/stable/notes/cpu_threading_torchscript_inference.html\n",
      "Crawling: https://docs.pytorch.org/docs/stable/notes/cuda.html\n",
      "Crawling: https://docs.pytorch.org/docs/stable/notes/custom_operators.html\n",
      "Crawling: https://docs.pytorch.org/docs/stable/notes/ddp.html\n",
      "Crawling: https://docs.pytorch.org/docs/stable/notes/extending.html\n",
      "Crawling: https://docs.pytorch.org/docs/stable/notes/extending.func.html\n",
      "Crawling: https://docs.pytorch.org/docs/stable/notes/faq.html\n",
      "Crawling: https://docs.pytorch.org/docs/stable/notes/fsdp.html\n",
      "Crawling: https://docs.pytorch.org/docs/stable/notes/get_start_xpu.html\n",
      "Crawling: https://docs.pytorch.org/docs/stable/notes/gradcheck.html\n",
      "Crawling: https://docs.pytorch.org/docs/stable/notes/hip.html\n",
      "Crawling: https://docs.pytorch.org/docs/stable/notes/large_scale_deployments.html\n",
      "Crawling: https://docs.pytorch.org/docs/stable/notes/libtorch_stable_abi.html\n",
      "Crawling: https://docs.pytorch.org/docs/stable/notes/modules.html\n",
      "Crawling: https://docs.pytorch.org/docs/stable/notes/mps.html\n",
      "Crawling: https://docs.pytorch.org/docs/stable/notes/multiprocessing.html\n",
      "Crawling: https://docs.pytorch.org/docs/stable/notes/numerical_accuracy.html\n",
      "Crawling: https://docs.pytorch.org/docs/stable/notes/randomness.html\n",
      "Crawling: https://docs.pytorch.org/docs/stable/notes/serialization.html\n",
      "Crawling: https://docs.pytorch.org/docs/stable/notes/windows.html\n",
      "Crawling: https://docs.pytorch.org/docs/stable/cpp_index.html\n",
      "Crawling: https://docs.pytorch.org/docs/stable/deploy.html\n",
      "Crawling: https://docs.pytorch.org/docs/stable/torch.html\n",
      "Crawling: https://docs.pytorch.org/docs/stable/nn.html\n",
      "Crawling: https://docs.pytorch.org/docs/stable/nn.functional.html\n",
      "Crawling: https://docs.pytorch.org/docs/stable/tensors.html\n",
      "Crawling: https://docs.pytorch.org/docs/stable/tensor_attributes.html\n",
      "Crawling: https://docs.pytorch.org/docs/stable/tensor_view.html\n",
      "Crawling: https://docs.pytorch.org/docs/stable/amp.html\n",
      "Crawling: https://docs.pytorch.org/docs/stable/autograd.html\n",
      "Crawling: https://docs.pytorch.org/docs/stable/library.html\n",
      "Crawling: https://docs.pytorch.org/docs/stable/accelerator.html\n",
      "Crawling: https://docs.pytorch.org/docs/stable/cpu.html\n",
      "Crawling: https://docs.pytorch.org/docs/stable/cuda.html\n",
      "Crawling: https://docs.pytorch.org/docs/stable/torch_cuda_memory.html\n",
      "Crawling: https://docs.pytorch.org/docs/stable/torch_cuda_memory.html#generating-a-snapshot\n",
      "Crawling: https://docs.pytorch.org/docs/stable/torch_cuda_memory.html#using-the-visualizer\n",
      "Crawling: https://docs.pytorch.org/docs/stable/torch_cuda_memory.html#snapshot-api-reference\n",
      "Crawling: https://docs.pytorch.org/docs/stable/mps.html\n",
      "Crawling: https://docs.pytorch.org/docs/stable/xpu.html\n",
      "Crawling: https://docs.pytorch.org/docs/stable/mtia.html\n",
      "Crawling: https://docs.pytorch.org/docs/stable/mtia.memory.html\n",
      "Crawling: https://docs.pytorch.org/docs/stable/meta.html\n",
      "Crawling: https://docs.pytorch.org/docs/stable/backends.html\n",
      "Crawling: https://docs.pytorch.org/docs/stable/export.html\n",
      "Crawling: https://docs.pytorch.org/docs/stable/distributed.html\n",
      "Crawling: https://docs.pytorch.org/docs/stable/distributed.tensor.html\n",
      "Crawling: https://docs.pytorch.org/docs/stable/distributed.algorithms.join.html\n",
      "Crawling: https://docs.pytorch.org/docs/stable/distributed.elastic.html\n",
      "Crawling: https://docs.pytorch.org/docs/stable/fsdp.html\n",
      "Crawling: https://docs.pytorch.org/docs/stable/distributed.fsdp.fully_shard.html\n",
      "Crawling: https://docs.pytorch.org/docs/stable/distributed.tensor.parallel.html\n",
      "Crawling: https://docs.pytorch.org/docs/stable/distributed.optim.html\n",
      "Crawling: https://docs.pytorch.org/docs/stable/distributed.pipelining.html\n",
      "Crawling: https://docs.pytorch.org/docs/stable/distributed.checkpoint.html\n",
      "Crawling: https://docs.pytorch.org/docs/stable/distributions.html\n",
      "Crawling: https://docs.pytorch.org/docs/stable/torch.compiler.html\n",
      "Crawling: https://docs.pytorch.org/docs/stable/fft.html\n",
      "Crawling: https://docs.pytorch.org/docs/stable/func.html\n",
      "Crawling: https://docs.pytorch.org/docs/stable/futures.html\n",
      "Crawling: https://docs.pytorch.org/docs/stable/fx.html\n",
      "Crawling: https://docs.pytorch.org/docs/stable/fx.experimental.html\n",
      "Crawling: https://docs.pytorch.org/docs/stable/hub.html\n",
      "Crawling: https://docs.pytorch.org/docs/stable/jit.html\n",
      "Crawling: https://docs.pytorch.org/docs/stable/linalg.html\n",
      "Crawling: https://docs.pytorch.org/docs/stable/monitor.html\n",
      "Crawling: https://docs.pytorch.org/docs/stable/signal.html\n",
      "Crawling: https://docs.pytorch.org/docs/stable/special.html\n",
      "Crawling: https://docs.pytorch.org/docs/stable/torch.overrides.html\n",
      "Crawling: https://docs.pytorch.org/docs/stable/package.html\n",
      "Crawling: https://docs.pytorch.org/docs/stable/profiler.html\n",
      "Crawling: https://docs.pytorch.org/docs/stable/nn.init.html\n",
      "Crawling: https://docs.pytorch.org/docs/stable/nn.attention.html\n",
      "Crawling: https://docs.pytorch.org/docs/stable/onnx.html\n",
      "Crawling: https://docs.pytorch.org/docs/stable/optim.html\n",
      "Crawling: https://docs.pytorch.org/docs/stable/complex_numbers.html\n",
      "Crawling: https://docs.pytorch.org/docs/stable/ddp_comm_hooks.html\n",
      "Crawling: https://docs.pytorch.org/docs/stable/quantization.html\n",
      "Crawling: https://docs.pytorch.org/docs/stable/rpc.html\n",
      "Crawling: https://docs.pytorch.org/docs/stable/random.html\n",
      "Crawling: https://docs.pytorch.org/docs/stable/masked.html\n",
      "Crawling: https://docs.pytorch.org/docs/stable/nested.html\n",
      "Crawling: https://docs.pytorch.org/docs/stable/size.html\n",
      "Crawling: https://docs.pytorch.org/docs/stable/sparse.html\n",
      "Crawling: https://docs.pytorch.org/docs/stable/storage.html\n",
      "Crawling: https://docs.pytorch.org/docs/stable/testing.html\n",
      "Crawling: https://docs.pytorch.org/docs/stable/utils.html\n",
      "Crawling: https://docs.pytorch.org/docs/stable/benchmark_utils.html\n",
      "Crawling: https://docs.pytorch.org/docs/stable/bottleneck.html\n",
      "Crawling: https://docs.pytorch.org/docs/stable/checkpoint.html\n",
      "Crawling: https://docs.pytorch.org/docs/stable/cpp_extension.html\n",
      "Crawling: https://docs.pytorch.org/docs/stable/data.html\n",
      "Crawling: https://docs.pytorch.org/docs/stable/deterministic.html\n",
      "Crawling: https://docs.pytorch.org/docs/stable/jit_utils.html\n",
      "Crawling: https://docs.pytorch.org/docs/stable/dlpack.html\n",
      "Crawling: https://docs.pytorch.org/docs/stable/mobile_optimizer.html\n",
      "Crawling: https://docs.pytorch.org/docs/stable/model_zoo.html\n",
      "Crawling: https://docs.pytorch.org/docs/stable/tensorboard.html\n",
      "Crawling: https://docs.pytorch.org/docs/stable/module_tracker.html\n",
      "Crawling: https://docs.pytorch.org/docs/stable/type_info.html\n",
      "Crawling: https://docs.pytorch.org/docs/stable/named_tensor.html\n",
      "Crawling: https://docs.pytorch.org/docs/stable/name_inference.html\n",
      "Crawling: https://docs.pytorch.org/docs/stable/config_mod.html\n",
      "Crawling: https://docs.pytorch.org/docs/stable/future_mod.html\n",
      "Crawling: https://docs.pytorch.org/docs/stable/logging.html\n",
      "Crawling: https://docs.pytorch.org/docs/stable/torch_environment_variables.html\n",
      "Crawling: https://docs.pytorch.org/docs/stable/_sources/community/build_ci_governance.rst.txt\n",
      "Crawling: https://docs.pytorch.org/docs/stable/community/build_ci_governance.html#pytorch-governance-build-ci\n",
      "Crawling: https://docs.pytorch.org/docs/stable/community/build_ci_governance.html#how-to-add-a-new-maintainer\n",
      "Crawling: https://docs.pytorch.org/docs/stable/index.html#pytorch-documentation\n",
      "Crawling: https://docs.pytorch.org/docs/stable/index.html#indices-and-tables\n",
      "Crawling: https://docs.pytorch.org/docs/stable/genindex.html\n",
      "Crawling: https://docs.pytorch.org/docs/stable/py-modindex.html\n",
      "Failed (404): https://docs.pytorch.org/docs/stable/py-modindex.html\n"
     ]
    }
   ],
   "source": [
    "# Start Crawling \n",
    "docs2 = crawl(\"https://docs.pytorch.org/docs/stable/index.html\",\n",
    "              \"https://docs.pytorch.org/docs/stable/index.html\",max_depth=2)"
   ]
  },
  {
   "cell_type": "code",
   "execution_count": 20,
   "id": "6e9e9bcb",
   "metadata": {},
   "outputs": [],
   "source": [
    "docs = docs1 + docs2"
   ]
  },
  {
   "cell_type": "code",
   "execution_count": 21,
   "id": "573c0624",
   "metadata": {},
   "outputs": [],
   "source": [
    "from langchain.text_splitter import RecursiveCharacterTextSplitter\n",
    "\n",
    "text_splitter = RecursiveCharacterTextSplitter(chunk_size = 2000,\n",
    "                                               chunk_overlap = 200)\n",
    "splits = text_splitter.split_documents(docs)"
   ]
  },
  {
   "cell_type": "code",
   "execution_count": null,
   "id": "9255d434",
   "metadata": {},
   "outputs": [],
   "source": [
    "from langchain.vectorstores import Chroma \n",
    "from langchain_google_genai import GoogleGenerativeAIEmbeddings\n",
    "\n",
    "embeddings = GoogleGenerativeAIEmbeddings(\n",
    "    model=\"models/text-embedding-004\",\n",
    "    google_api_key= \"XXXXX\"\n",
    ")\n",
    "vectorstore = Chroma.from_documents(documents=splits,\n",
    "                                    embedding=embeddings)"
   ]
  },
  {
   "cell_type": "code",
   "execution_count": 23,
   "id": "8fc1ecaf",
   "metadata": {},
   "outputs": [],
   "source": [
    "retriever = vectorstore.as_retriever()"
   ]
  },
  {
   "cell_type": "code",
   "execution_count": 24,
   "id": "ab1ede8a",
   "metadata": {},
   "outputs": [
    {
     "name": "stderr",
     "output_type": "stream",
     "text": [
      "e:\\Learning_project\\.venv\\Lib\\site-packages\\langsmith\\client.py:272: LangSmithMissingAPIKeyWarning: API key must be provided when using hosted LangSmith API\n",
      "  warnings.warn(\n"
     ]
    }
   ],
   "source": [
    "from langchain import hub \n",
    "prompt = hub.pull(\"rlm/rag-prompt\")"
   ]
  },
  {
   "cell_type": "code",
   "execution_count": 25,
   "id": "552501a7",
   "metadata": {},
   "outputs": [],
   "source": [
    "def format_docs(docs):\n",
    "    return \"\\n\".join(doc.page_content for doc in docs)"
   ]
  },
  {
   "cell_type": "code",
   "execution_count": null,
   "id": "ffb21f66",
   "metadata": {},
   "outputs": [],
   "source": [
    "from langchain_google_genai import ChatGoogleGenerativeAI\n",
    "\n",
    "llm = ChatGoogleGenerativeAI(\n",
    "    model=\"gemini-2.0-flash\",\n",
    "    temperature=0,\n",
    "    google_api_key =\"XXXXX\"\n",
    ")"
   ]
  },
  {
   "cell_type": "code",
   "execution_count": 27,
   "id": "434c211e",
   "metadata": {},
   "outputs": [],
   "source": [
    "from langchain_core.runnables import RunnablePassthrough\n",
    "from langchain_core.output_parsers import StrOutputParser \n",
    "\n",
    "rag_chain = ({\"context\":retriever | format_docs,\n",
    "              \"question\":RunnablePassthrough()}\n",
    "              | prompt \n",
    "              | llm \n",
    "              | StrOutputParser())"
   ]
  },
  {
   "cell_type": "code",
   "execution_count": 28,
   "id": "81f11055",
   "metadata": {},
   "outputs": [
    {
     "data": {
      "text/plain": [
       "\"`torch.utils.dlpack` facilitates interoperability between PyTorch and other libraries by allowing tensors to share memory. It includes functions like `from_dlpack` to convert tensors from external libraries into PyTorch tensors and `to_dlpack` to create DLPack capsules representing PyTorch tensors. The DLPack capsule shares the tensor's memory.\""
      ]
     },
     "execution_count": 28,
     "metadata": {},
     "output_type": "execute_result"
    }
   ],
   "source": [
    "rag_chain.invoke(\"use of torch.utils.dlpack\")"
   ]
  },
  {
   "cell_type": "code",
   "execution_count": null,
   "id": "dd9cec42",
   "metadata": {},
   "outputs": [],
   "source": []
  }
 ],
 "metadata": {
  "kernelspec": {
   "display_name": ".venv",
   "language": "python",
   "name": "python3"
  },
  "language_info": {
   "codemirror_mode": {
    "name": "ipython",
    "version": 3
   },
   "file_extension": ".py",
   "mimetype": "text/x-python",
   "name": "python",
   "nbconvert_exporter": "python",
   "pygments_lexer": "ipython3",
   "version": "3.12.8"
  }
 },
 "nbformat": 4,
 "nbformat_minor": 5
}
